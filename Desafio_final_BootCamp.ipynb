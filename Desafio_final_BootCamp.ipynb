{
  "nbformat": 4,
  "nbformat_minor": 0,
  "metadata": {
    "colab": {
      "name": "Desafio final BootCamp",
      "provenance": [],
      "mount_file_id": "1vEzBzzwBwtW0K82FXvIiVxAIn_xXdH05",
      "authorship_tag": "ABX9TyN2Ll9BeoepjvEQfcWk0Ax4",
      "include_colab_link": true
    },
    "kernelspec": {
      "name": "python3",
      "display_name": "Python 3"
    }
  },
  "cells": [
    {
      "cell_type": "markdown",
      "metadata": {
        "id": "view-in-github",
        "colab_type": "text"
      },
      "source": [
        "<a href=\"https://colab.research.google.com/github/brunopazitto/Bootcamp-Machine-learning/blob/main/Desafio_final_BootCamp.ipynb\" target=\"_parent\"><img src=\"https://colab.research.google.com/assets/colab-badge.svg\" alt=\"Open In Colab\"/></a>"
      ]
    },
    {
      "cell_type": "code",
      "metadata": {
        "id": "Ckprufla7q8f"
      },
      "source": [
        "import pandas as pd\r\n",
        "import numpy as np \r\n",
        "import matplotlib.pyplot as plt\r\n",
        "\r\n",
        "from sklearn.preprocessing import StandardScaler\r\n",
        "from sklearn.decomposition import PCA\r\n",
        "from sklearn.cluster import KMeans\r\n",
        "from sklearn.model_selection import train_test_split\r\n",
        "from sklearn.tree import DecisionTreeClassifier\r\n",
        "from sklearn.linear_model import LogisticRegression\r\n",
        "\r\n",
        "random_state = 42\r\n",
        "\r\n",
        "\r\n",
        "scaler = StandardScaler()\r\n",
        "pca = PCA(n_components=7)\r\n",
        "kmeans = KMeans(n_clusters=3,random_state=random_state)\r\n",
        "dtc = DecisionTreeClassifier(random_state=random_state)\r\n",
        "lr = LogisticRegression(random_state=random_state)"
      ],
      "execution_count": 62,
      "outputs": []
    },
    {
      "cell_type": "code",
      "metadata": {
        "colab": {
          "base_uri": "https://localhost:8080/"
        },
        "id": "5cQ59MSa8HzX",
        "outputId": "fe8addfd-73b8-4e40-ff6b-91f10983d203"
      },
      "source": [
        "from google.colab import drive\r\n",
        "drive.mount('/content/drive')"
      ],
      "execution_count": 3,
      "outputs": [
        {
          "output_type": "stream",
          "text": [
            "Drive already mounted at /content/drive; to attempt to forcibly remount, call drive.mount(\"/content/drive\", force_remount=True).\n"
          ],
          "name": "stdout"
        }
      ]
    },
    {
      "cell_type": "code",
      "metadata": {
        "id": "xFyar7_H8Qms"
      },
      "source": [
        "df = pd.read_csv('/content/drive/MyDrive/BOOTCAMP IGTI/Analista de Machine Learning/Módulo 4/cars.csv')\r\n",
        "df_original = pd.read_csv('/content/drive/MyDrive/BOOTCAMP IGTI/Analista de Machine Learning/Módulo 4/cars.csv')"
      ],
      "execution_count": 17,
      "outputs": []
    },
    {
      "cell_type": "code",
      "metadata": {
        "colab": {
          "base_uri": "https://localhost:8080/",
          "height": 204
        },
        "id": "qbYFf2W98rJu",
        "outputId": "0730e7b0-6cc1-4ba7-e640-6a24e4c424c0"
      },
      "source": [
        "df.head()"
      ],
      "execution_count": 6,
      "outputs": [
        {
          "output_type": "execute_result",
          "data": {
            "text/html": [
              "<div>\n",
              "<style scoped>\n",
              "    .dataframe tbody tr th:only-of-type {\n",
              "        vertical-align: middle;\n",
              "    }\n",
              "\n",
              "    .dataframe tbody tr th {\n",
              "        vertical-align: top;\n",
              "    }\n",
              "\n",
              "    .dataframe thead th {\n",
              "        text-align: right;\n",
              "    }\n",
              "</style>\n",
              "<table border=\"1\" class=\"dataframe\">\n",
              "  <thead>\n",
              "    <tr style=\"text-align: right;\">\n",
              "      <th></th>\n",
              "      <th>mpg</th>\n",
              "      <th>cylinders</th>\n",
              "      <th>cubicinches</th>\n",
              "      <th>hp</th>\n",
              "      <th>weightlbs</th>\n",
              "      <th>time-to-60</th>\n",
              "      <th>year</th>\n",
              "      <th>brand</th>\n",
              "    </tr>\n",
              "  </thead>\n",
              "  <tbody>\n",
              "    <tr>\n",
              "      <th>0</th>\n",
              "      <td>14.0</td>\n",
              "      <td>8</td>\n",
              "      <td>350</td>\n",
              "      <td>165</td>\n",
              "      <td>4209</td>\n",
              "      <td>12</td>\n",
              "      <td>1972</td>\n",
              "      <td>US.</td>\n",
              "    </tr>\n",
              "    <tr>\n",
              "      <th>1</th>\n",
              "      <td>31.9</td>\n",
              "      <td>4</td>\n",
              "      <td>89</td>\n",
              "      <td>71</td>\n",
              "      <td>1925</td>\n",
              "      <td>14</td>\n",
              "      <td>1980</td>\n",
              "      <td>Europe.</td>\n",
              "    </tr>\n",
              "    <tr>\n",
              "      <th>2</th>\n",
              "      <td>17.0</td>\n",
              "      <td>8</td>\n",
              "      <td>302</td>\n",
              "      <td>140</td>\n",
              "      <td>3449</td>\n",
              "      <td>11</td>\n",
              "      <td>1971</td>\n",
              "      <td>US.</td>\n",
              "    </tr>\n",
              "    <tr>\n",
              "      <th>3</th>\n",
              "      <td>15.0</td>\n",
              "      <td>8</td>\n",
              "      <td>400</td>\n",
              "      <td>150</td>\n",
              "      <td>3761</td>\n",
              "      <td>10</td>\n",
              "      <td>1971</td>\n",
              "      <td>US.</td>\n",
              "    </tr>\n",
              "    <tr>\n",
              "      <th>4</th>\n",
              "      <td>30.5</td>\n",
              "      <td>4</td>\n",
              "      <td>98</td>\n",
              "      <td>63</td>\n",
              "      <td>2051</td>\n",
              "      <td>17</td>\n",
              "      <td>1978</td>\n",
              "      <td>US.</td>\n",
              "    </tr>\n",
              "  </tbody>\n",
              "</table>\n",
              "</div>"
            ],
            "text/plain": [
              "    mpg  cylinders cubicinches   hp weightlbs  time-to-60  year     brand\n",
              "0  14.0          8         350  165      4209          12  1972       US.\n",
              "1  31.9          4          89   71      1925          14  1980   Europe.\n",
              "2  17.0          8         302  140      3449          11  1971       US.\n",
              "3  15.0          8         400  150      3761          10  1971       US.\n",
              "4  30.5          4          98   63      2051          17  1978       US."
            ]
          },
          "metadata": {
            "tags": []
          },
          "execution_count": 6
        }
      ]
    },
    {
      "cell_type": "markdown",
      "metadata": {
        "id": "omgaoELgJN53"
      },
      "source": [
        "Após a utilização da biblioteca pandas para a leitura dos dados sobre os valores lidos, é CORRETO afirmar que:"
      ]
    },
    {
      "cell_type": "code",
      "metadata": {
        "colab": {
          "base_uri": "https://localhost:8080/"
        },
        "id": "9DqaFuYf8saE",
        "outputId": "bccd355f-e9ed-420b-e6fc-53a19414ff4a"
      },
      "source": [
        "df.info()"
      ],
      "execution_count": 15,
      "outputs": [
        {
          "output_type": "stream",
          "text": [
            "<class 'pandas.core.frame.DataFrame'>\n",
            "RangeIndex: 261 entries, 0 to 260\n",
            "Data columns (total 8 columns):\n",
            " #   Column       Non-Null Count  Dtype  \n",
            "---  ------       --------------  -----  \n",
            " 0   mpg          261 non-null    float64\n",
            " 1   cylinders    261 non-null    int64  \n",
            " 2   cubicinches  259 non-null    float64\n",
            " 3   hp           261 non-null    int64  \n",
            " 4   weightlbs    261 non-null    object \n",
            " 5   time-to-60   261 non-null    int64  \n",
            " 6   year         261 non-null    int64  \n",
            " 7   brand        261 non-null    object \n",
            "dtypes: float64(2), int64(4), object(2)\n",
            "memory usage: 16.4+ KB\n"
          ],
          "name": "stdout"
        }
      ]
    },
    {
      "cell_type": "markdown",
      "metadata": {
        "id": "KJXsflqbJR_A"
      },
      "source": [
        "Realize a transformação das colunas “cubicinches” e “weightlbs” do tipo “string” para o tipo numérico utilizando o pd.to_numeric(), utilizando o parâmetro  errors='coerce'. Após essa transformação, é CORRETO afirmar:"
      ]
    },
    {
      "cell_type": "code",
      "metadata": {
        "id": "Lwg9Qs8782Ss"
      },
      "source": [
        "df.cubicinches = pd.to_numeric(df.cubicinches,errors='coerce')"
      ],
      "execution_count": 25,
      "outputs": []
    },
    {
      "cell_type": "code",
      "metadata": {
        "colab": {
          "base_uri": "https://localhost:8080/"
        },
        "id": "ZkEiEcZy-Uyn",
        "outputId": "eaaff7c9-53e9-4728-9c96-df513891fb10"
      },
      "source": [
        "df.isna().sum()"
      ],
      "execution_count": 26,
      "outputs": [
        {
          "output_type": "execute_result",
          "data": {
            "text/plain": [
              "mpg            0\n",
              "cylinders      0\n",
              "cubicinches    2\n",
              "hp             0\n",
              "weightlbs      3\n",
              "time-to-60     0\n",
              "year           0\n",
              "brand          0\n",
              "dtype: int64"
            ]
          },
          "metadata": {
            "tags": []
          },
          "execution_count": 26
        }
      ]
    },
    {
      "cell_type": "markdown",
      "metadata": {
        "id": "7MCOq-Z6JUni"
      },
      "source": [
        "Indique quais eram os índices dos valores presentes no dataset que “forçaram” o pandas a compreender a variável “cubicinches” como string.\r\n",
        "  "
      ]
    },
    {
      "cell_type": "code",
      "metadata": {
        "colab": {
          "base_uri": "https://localhost:8080/"
        },
        "id": "sqOsh-wE_FFE",
        "outputId": "c69ead27-a152-4365-cbfd-2d2b887ec830"
      },
      "source": [
        "#Identificando os valores que foram categorizados como string pelo panadas\r\n",
        "df_original[df_original.cubicinches == ' '].index"
      ],
      "execution_count": 18,
      "outputs": [
        {
          "output_type": "execute_result",
          "data": {
            "text/plain": [
              "Int64Index([40, 180], dtype='int64')"
            ]
          },
          "metadata": {
            "tags": []
          },
          "execution_count": 18
        }
      ]
    },
    {
      "cell_type": "markdown",
      "metadata": {
        "id": "CdwoasogJXvW"
      },
      "source": [
        "Após a transformação das variáveis “string” para os valores numéricos, quantos valores nulos (células no dataframe) passaram a existir no dataset?"
      ]
    },
    {
      "cell_type": "code",
      "metadata": {
        "colab": {
          "base_uri": "https://localhost:8080/"
        },
        "id": "3hDKSJZe_ekE",
        "outputId": "3b7f000f-eee1-452e-a853-c16ef6646405"
      },
      "source": [
        "#realizando a conversão da coluna weightlbs para numeric\r\n",
        "df.weightlbs = pd.to_numeric(df.weightlbs,errors='coerce')\r\n",
        "df.isna().sum()"
      ],
      "execution_count": 27,
      "outputs": [
        {
          "output_type": "execute_result",
          "data": {
            "text/plain": [
              "mpg            0\n",
              "cylinders      0\n",
              "cubicinches    2\n",
              "hp             0\n",
              "weightlbs      3\n",
              "time-to-60     0\n",
              "year           0\n",
              "brand          0\n",
              "dtype: int64"
            ]
          },
          "metadata": {
            "tags": []
          },
          "execution_count": 27
        }
      ]
    },
    {
      "cell_type": "markdown",
      "metadata": {
        "id": "YOiztkucJZlr"
      },
      "source": [
        "Substitua os valores nulos introduzidos no dataset após a transformação pelo valor médio das colunas. Qual é o novo valor médio da coluna “weightlbs”?"
      ]
    },
    {
      "cell_type": "code",
      "metadata": {
        "colab": {
          "base_uri": "https://localhost:8080/"
        },
        "id": "k_j-S6uqACgr",
        "outputId": "53666325-07e9-4c54-b9a2-2d9606f1ba6f"
      },
      "source": [
        "#Substituindo os valores nulos pela média das colunas\r\n",
        "df.loc[df.cubicinches.isna(),'cubicinches'] = df.cubicinches.mean()\r\n",
        "df.loc[df.weightlbs.isna(),'weightlbs'] = df.weightlbs.mean()\r\n",
        "df.weightlbs.mean()"
      ],
      "execution_count": 31,
      "outputs": [
        {
          "output_type": "execute_result",
          "data": {
            "text/plain": [
              "3009.8333333333335"
            ]
          },
          "metadata": {
            "tags": []
          },
          "execution_count": 31
        }
      ]
    },
    {
      "cell_type": "markdown",
      "metadata": {
        "id": "CW3MKpvmJbYI"
      },
      "source": [
        "Após substituir os valores nulos pela média das colunas, selecione as colunas ['mpg', 'cylinders', 'cubicinches', 'hp', 'weightlbs', 'time-to-60', 'year']. Qual é o valor da mediana para a característica 'mpg'?"
      ]
    },
    {
      "cell_type": "code",
      "metadata": {
        "colab": {
          "base_uri": "https://localhost:8080/"
        },
        "id": "oefqAEbRA147",
        "outputId": "89a08ef1-c71b-4cf6-a7f1-62a177e6f37c"
      },
      "source": [
        "#identificando a mediana da coluna mpg\r\n",
        "df.mpg.median()"
      ],
      "execution_count": 35,
      "outputs": [
        {
          "output_type": "execute_result",
          "data": {
            "text/plain": [
              "22.0"
            ]
          },
          "metadata": {
            "tags": []
          },
          "execution_count": 35
        }
      ]
    },
    {
      "cell_type": "markdown",
      "metadata": {
        "id": "uER2gLX1Jh00"
      },
      "source": [
        "Qual é a afirmação CORRETA sobre o valor de 14,00 para a variável “time-to-60”?"
      ]
    },
    {
      "cell_type": "code",
      "metadata": {
        "colab": {
          "base_uri": "https://localhost:8080/"
        },
        "id": "rcqjYEJ0BjTQ",
        "outputId": "8e66b347-ba43-4c08-a720-cc28b66b1d87"
      },
      "source": [
        "df['time-to-60'].describe()"
      ],
      "execution_count": 38,
      "outputs": [
        {
          "output_type": "execute_result",
          "data": {
            "text/plain": [
              "count    261.000000\n",
              "mean      15.547893\n",
              "std        2.910625\n",
              "min        8.000000\n",
              "25%       14.000000\n",
              "50%       16.000000\n",
              "75%       17.000000\n",
              "max       25.000000\n",
              "Name: time-to-60, dtype: float64"
            ]
          },
          "metadata": {
            "tags": []
          },
          "execution_count": 38
        }
      ]
    },
    {
      "cell_type": "markdown",
      "metadata": {
        "id": "Gt0fLq3vJkWW"
      },
      "source": [
        "Sobre o coeficiente de correlação de Pearson entre as variáveis “cylinders” e “mpg”, é correto afirmar, EXCETO:"
      ]
    },
    {
      "cell_type": "code",
      "metadata": {
        "colab": {
          "base_uri": "https://localhost:8080/",
          "height": 111
        },
        "id": "799GkgtfCDQr",
        "outputId": "667bd75c-36e4-4b26-f1b8-c4819f0337bf"
      },
      "source": [
        "#Verificando a correlação entre as variáveis\r\n",
        "df[['cylinders','mpg']].corr()"
      ],
      "execution_count": 39,
      "outputs": [
        {
          "output_type": "execute_result",
          "data": {
            "text/html": [
              "<div>\n",
              "<style scoped>\n",
              "    .dataframe tbody tr th:only-of-type {\n",
              "        vertical-align: middle;\n",
              "    }\n",
              "\n",
              "    .dataframe tbody tr th {\n",
              "        vertical-align: top;\n",
              "    }\n",
              "\n",
              "    .dataframe thead th {\n",
              "        text-align: right;\n",
              "    }\n",
              "</style>\n",
              "<table border=\"1\" class=\"dataframe\">\n",
              "  <thead>\n",
              "    <tr style=\"text-align: right;\">\n",
              "      <th></th>\n",
              "      <th>cylinders</th>\n",
              "      <th>mpg</th>\n",
              "    </tr>\n",
              "  </thead>\n",
              "  <tbody>\n",
              "    <tr>\n",
              "      <th>cylinders</th>\n",
              "      <td>1.00000</td>\n",
              "      <td>-0.77671</td>\n",
              "    </tr>\n",
              "    <tr>\n",
              "      <th>mpg</th>\n",
              "      <td>-0.77671</td>\n",
              "      <td>1.00000</td>\n",
              "    </tr>\n",
              "  </tbody>\n",
              "</table>\n",
              "</div>"
            ],
            "text/plain": [
              "           cylinders      mpg\n",
              "cylinders    1.00000 -0.77671\n",
              "mpg         -0.77671  1.00000"
            ]
          },
          "metadata": {
            "tags": []
          },
          "execution_count": 39
        }
      ]
    },
    {
      "cell_type": "markdown",
      "metadata": {
        "id": "SYCBaXfdJnP7"
      },
      "source": [
        "Sobre o boxplot da variável “hp”, é correto afirmar, EXCETO:"
      ]
    },
    {
      "cell_type": "code",
      "metadata": {
        "colab": {
          "base_uri": "https://localhost:8080/",
          "height": 282
        },
        "id": "1qHoa-TNCpFk",
        "outputId": "e5c9f189-4736-4278-b875-977300e67279"
      },
      "source": [
        "df.hp.plot.box()"
      ],
      "execution_count": 40,
      "outputs": [
        {
          "output_type": "execute_result",
          "data": {
            "text/plain": [
              "<matplotlib.axes._subplots.AxesSubplot at 0x7f3e73af5c50>"
            ]
          },
          "metadata": {
            "tags": []
          },
          "execution_count": 40
        },
        {
          "output_type": "display_data",
          "data": {
            "image/png": "[encoded data removed]",
            "text/plain": [
              "<Figure size 432x288 with 1 Axes>"
            ]
          },
          "metadata": {
            "tags": [],
            "needs_background": "light"
          }
        }
      ]
    },
    {
      "cell_type": "markdown",
      "metadata": {
        "id": "anrIAYGUJpu2"
      },
      "source": [
        "Após normalizado, utilizando a função StandardScaler(), qual é o maior valor para a variável “hp”?"
      ]
    },
    {
      "cell_type": "code",
      "metadata": {
        "colab": {
          "base_uri": "https://localhost:8080/"
        },
        "id": "VuBeDbXnDQ7t",
        "outputId": "1ddf1a74-3687-4f04-d204-62536b4818e0"
      },
      "source": [
        "#aplicando a normalização dos dados para numeros de -1 até 1\r\n",
        "print('Antes:\\t',df.hp.max())\r\n",
        "df.hp = scaler.fit_transform(df.hp.values.reshape(-1,1))\r\n",
        "print('Depois:\\t',df.hp.max())"
      ],
      "execution_count": 49,
      "outputs": [
        {
          "output_type": "stream",
          "text": [
            "Antes:\t 3.05870398977614\n",
            "Depois:\t 3.05870398977614\n"
          ],
          "name": "stdout"
        }
      ]
    },
    {
      "cell_type": "markdown",
      "metadata": {
        "id": "SgeRztpJJr8G"
      },
      "source": [
        "Aplicando o PCA, conforme a definição acima, qual é o valor da variância explicada com pela primeira componente principal?"
      ]
    },
    {
      "cell_type": "code",
      "metadata": {
        "colab": {
          "base_uri": "https://localhost:8080/"
        },
        "id": "_T58w7fSEFIt",
        "outputId": "55e688b0-c73e-4de1-e4ed-6f2cf83eed30"
      },
      "source": [
        "pca.fit(df[df.columns[:-1]])\r\n",
        "pca.explained_variance_\r\n",
        "pca.components_"
      ],
      "execution_count": 51,
      "outputs": [
        {
          "output_type": "execute_result",
          "data": {
            "text/plain": [
              "array([[-7.54290397e-03,  1.81683306e-03,  1.18045838e-01,\n",
              "         1.00629347e-03,  9.92975269e-01, -1.63313644e-03,\n",
              "        -1.19153729e-03],\n",
              "       [-1.96355544e-02,  1.35560601e-02,  9.91942502e-01,\n",
              "         7.19468026e-03, -1.18182122e-01, -3.15535453e-02,\n",
              "        -2.15950892e-02],\n",
              "       [ 8.36629255e-01, -1.31787086e-03,  3.16138097e-02,\n",
              "        -1.77279432e-02,  3.40719256e-03,  8.64910315e-02,\n",
              "         5.39670022e-01],\n",
              "       [-5.22848327e-01,  1.29868904e-02,  2.06788708e-03,\n",
              "         4.55282298e-03, -3.50915446e-03, -1.62481900e-01,\n",
              "         8.36673940e-01],\n",
              "       [-1.61776932e-01, -1.85589127e-03,  3.02877827e-02,\n",
              "        -1.20905261e-01, -2.99365701e-03,  9.74879806e-01,\n",
              "         8.88242682e-02],\n",
              "       [-8.14832542e-03, -9.82250976e-01,  1.27806847e-02,\n",
              "         1.85634032e-01,  7.30148101e-05,  1.82502615e-02,\n",
              "         1.26573238e-02],\n",
              "       [-7.03686992e-04,  1.86606838e-01, -5.55415524e-03,\n",
              "         9.74953404e-01, -4.59576621e-04,  1.19987220e-01,\n",
              "         1.46717486e-02]])"
            ]
          },
          "metadata": {
            "tags": []
          },
          "execution_count": 51
        }
      ]
    },
    {
      "cell_type": "markdown",
      "metadata": {
        "id": "hWD1dLQCJuYh"
      },
      "source": [
        "Utilize os três primeiros componentes principais para construir o K-means com um número de 3 clusters. Sobre os clusters, é INCORRETO afirmar que:"
      ]
    },
    {
      "cell_type": "code",
      "metadata": {
        "colab": {
          "base_uri": "https://localhost:8080/"
        },
        "id": "hA-j6BU1FK5M",
        "outputId": "c32477a7-4c29-4b75-eae6-f25dee5ca017"
      },
      "source": [
        "k = kmeans.fit(pca.components_[:3])\r\n",
        "k.cluster_centers_"
      ],
      "execution_count": 53,
      "outputs": [
        {
          "output_type": "execute_result",
          "data": {
            "text/plain": [
              "array([[-0.01963555,  0.01355606,  0.9919425 ,  0.00719468, -0.11818212,\n",
              "        -0.03155355, -0.02159509],\n",
              "       [-0.0075429 ,  0.00181683,  0.11804584,  0.00100629,  0.99297527,\n",
              "        -0.00163314, -0.00119154],\n",
              "       [ 0.83662926, -0.00131787,  0.03161381, -0.01772794,  0.00340719,\n",
              "         0.08649103,  0.53967002]])"
            ]
          },
          "metadata": {
            "tags": []
          },
          "execution_count": 53
        }
      ]
    },
    {
      "cell_type": "markdown",
      "metadata": {
        "id": "_JoGJuzQJ1Ow"
      },
      "source": [
        "Após todo o processamento realizado nos itens anteriores, crie uma coluna que contenha a variável de eficiência do veículo. Veículos que percorrem mais de 25 milhas com um galão (“mpg”>25) devem ser considerados eficientes. Utilize as colunas ['cylinders' ,'cubicinches'            ,'hp' ,'weightlbs','time-to-60'] como entradas e como saída a coluna de eficiência criada.\r\n",
        "\r\n",
        " \r\n",
        "\r\n",
        "Utilizando a árvore de decisão como mostrado, qual é a acurácia do modelo?"
      ]
    },
    {
      "cell_type": "code",
      "metadata": {
        "id": "ehnCf8iTF2WB"
      },
      "source": [
        "df['eficientes'] = 0\r\n",
        "df.loc[df.mpg>25,'eficientes'] = 1\r\n",
        "x = df[['cylinders' ,'cubicinches' ,'hp' ,'weightlbs','time-to-60']]\r\n",
        "x = scaler.transform(x)\r\n",
        "y = df['eficientes']\r\n",
        "xtrain, xtest, ytrain, ytest = train_test_split(x, y, test_size=0.3,random_state=random_state)"
      ],
      "execution_count": 56,
      "outputs": []
    },
    {
      "cell_type": "code",
      "metadata": {
        "colab": {
          "base_uri": "https://localhost:8080/"
        },
        "id": "xiuloMuxGyJr",
        "outputId": "3c08d50d-8e1f-47b6-ad39-871d269893cf"
      },
      "source": [
        "from sklearn.metrics import accuracy_score\r\n",
        "dtc = DecisionTreeClassifier(random_state=random_state)\r\n",
        "dtc = dtc.fit(xtrain,ytrain)\r\n",
        "predicts = dtc.predict(xtest)\r\n",
        "accuracy_score(ytest,predicts)"
      ],
      "execution_count": 57,
      "outputs": [
        {
          "output_type": "execute_result",
          "data": {
            "text/plain": [
              "0.8734177215189873"
            ]
          },
          "metadata": {
            "tags": []
          },
          "execution_count": 57
        }
      ]
    },
    {
      "cell_type": "markdown",
      "metadata": {
        "id": "l3jozKOzJ32o"
      },
      "source": [
        "Sobre a matriz de confusão obtida após a aplicação da árvore de decisão, como mostrado anteriormente, é INCORRETO afirmar:"
      ]
    },
    {
      "cell_type": "code",
      "metadata": {
        "colab": {
          "base_uri": "https://localhost:8080/"
        },
        "id": "F-SqmakJHLyp",
        "outputId": "39c0f54b-aa97-4f21-e441-ff0511dc3877"
      },
      "source": [
        "from sklearn.metrics import confusion_matrix\r\n",
        "verdadeiro_negativo, falso_positivo, falso_negativo, verdadeiro_positivo = confusion_matrix(ytest,predicts).ravel()\r\n",
        "print('verdadeiro_negativo:\\t',verdadeiro_negativo)\r\n",
        "print('falso_positivo:\\t\\t',falso_positivo)\r\n",
        "print('falso_negativo:\\t\\t',falso_negativo)\r\n",
        "print('verdadeiro_positivo:\\t',verdadeiro_positivo)"
      ],
      "execution_count": 59,
      "outputs": [
        {
          "output_type": "stream",
          "text": [
            "verdadeiro_negativo:\t 33\n",
            "falso_positivo:\t\t 8\n",
            "falso_negativo:\t\t 2\n",
            "verdadeiro_positivo:\t 36\n"
          ],
          "name": "stdout"
        }
      ]
    },
    {
      "cell_type": "markdown",
      "metadata": {
        "id": "mLFKCBHdJ6hY"
      },
      "source": [
        "Utilizando a mesma divisão de dados entre treinamento e teste empregada para a análise anterior, aplique o modelo de regressão logística como mostrado na descrição do trabalho.\r\n",
        "\r\n",
        " "
      ]
    },
    {
      "cell_type": "code",
      "metadata": {
        "colab": {
          "base_uri": "https://localhost:8080/"
        },
        "id": "AQD8JKz3Hx-q",
        "outputId": "749b48ad-1df2-4541-a13c-5ff38c6b532d"
      },
      "source": [
        "lr = LogisticRegression(random_state=random_state) \r\n",
        "lr = lr.fit(xtrain,ytrain)\r\n",
        "predicts  = lr.predict(xtest)\r\n",
        "accuracy_score(ytest,predicts)"
      ],
      "execution_count": 63,
      "outputs": [
        {
          "output_type": "stream",
          "text": [
            "/usr/local/lib/python3.6/dist-packages/sklearn/linear_model/_logistic.py:940: ConvergenceWarning: lbfgs failed to converge (status=1):\n",
            "STOP: TOTAL NO. of ITERATIONS REACHED LIMIT.\n",
            "\n",
            "Increase the number of iterations (max_iter) or scale the data as shown in:\n",
            "    https://scikit-learn.org/stable/modules/preprocessing.html\n",
            "Please also refer to the documentation for alternative solver options:\n",
            "    https://scikit-learn.org/stable/modules/linear_model.html#logistic-regression\n",
            "  extra_warning_msg=_LOGISTIC_SOLVER_CONVERGENCE_MSG)\n"
          ],
          "name": "stderr"
        },
        {
          "output_type": "execute_result",
          "data": {
            "text/plain": [
              "0.8481012658227848"
            ]
          },
          "metadata": {
            "tags": []
          },
          "execution_count": 63
        }
      ]
    },
    {
      "cell_type": "code",
      "metadata": {
        "id": "ZMvAQmbgHzr9"
      },
      "source": [
        ""
      ],
      "execution_count": null,
      "outputs": []
    }
  ]
}