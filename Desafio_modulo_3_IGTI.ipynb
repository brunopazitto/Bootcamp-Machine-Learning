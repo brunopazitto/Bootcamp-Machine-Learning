{
  "nbformat": 4,
  "nbformat_minor": 0,
  "metadata": {
    "colab": {
      "name": "Desafio modulo 3 IGTI",
      "provenance": [],
      "authorship_tag": "ABX9TyNzk9LDXSgWMzKE8KLBWhya",
      "include_colab_link": true
    },
    "kernelspec": {
      "name": "python3",
      "display_name": "Python 3"
    }
  },
  "cells": [
    {
      "cell_type": "markdown",
      "metadata": {
        "id": "view-in-github",
        "colab_type": "text"
      },
      "source": [
        "<a href=\"https://colab.research.google.com/github/brunopazitto/Bootcamp-Machine-learning/blob/main/Desafio_modulo_3_IGTI.ipynb\" target=\"_parent\"><img src=\"https://colab.research.google.com/assets/colab-badge.svg\" alt=\"Open In Colab\"/></a>"
      ]
    },
    {
      "cell_type": "code",
      "metadata": {
        "id": "1XtejyH1BQbk"
      },
      "source": [
        "#Importando as bibliotecas que serão utilizadas\r\n",
        "import pandas as pd\r\n",
        "import numpy as np\r\n",
        "from sklearn.ensemble import RandomForestClassifier\r\n",
        "from sklearn.svm import SVC\r\n",
        "from sklearn.model_selection import StratifiedKFold\r\n",
        "from sklearn.model_selection import RandomizedSearchCV\r\n",
        "from scipy.stats import uniform\r\n",
        "from scipy.stats import randint\r\n",
        "from sklearn.metrics import f1_score, make_scorer"
      ],
      "execution_count": 1,
      "outputs": []
    },
    {
      "cell_type": "code",
      "metadata": {
        "id": "KDgHvj5yCbVs"
      },
      "source": [
        "df = pd.read_csv('/content/phpOJxGL9.csv')"
      ],
      "execution_count": 2,
      "outputs": []
    },
    {
      "cell_type": "code",
      "metadata": {
        "colab": {
          "base_uri": "https://localhost:8080/",
          "height": 204
        },
        "id": "mMRyipftDNnx",
        "outputId": "62589630-5c71-46fa-b546-e81d915ff508"
      },
      "source": [
        "df.head()"
      ],
      "execution_count": 3,
      "outputs": [
        {
          "output_type": "execute_result",
          "data": {
            "text/html": [
              "<div>\n",
              "<style scoped>\n",
              "    .dataframe tbody tr th:only-of-type {\n",
              "        vertical-align: middle;\n",
              "    }\n",
              "\n",
              "    .dataframe tbody tr th {\n",
              "        vertical-align: top;\n",
              "    }\n",
              "\n",
              "    .dataframe thead th {\n",
              "        text-align: right;\n",
              "    }\n",
              "</style>\n",
              "<table border=\"1\" class=\"dataframe\">\n",
              "  <thead>\n",
              "    <tr style=\"text-align: right;\">\n",
              "      <th></th>\n",
              "      <th>V1</th>\n",
              "      <th>V2</th>\n",
              "      <th>V3</th>\n",
              "      <th>V4</th>\n",
              "      <th>V5</th>\n",
              "      <th>V6</th>\n",
              "      <th>V7</th>\n",
              "      <th>V8</th>\n",
              "      <th>V9</th>\n",
              "      <th>V10</th>\n",
              "      <th>Class</th>\n",
              "    </tr>\n",
              "  </thead>\n",
              "  <tbody>\n",
              "    <tr>\n",
              "      <th>0</th>\n",
              "      <td>65</td>\n",
              "      <td>Female</td>\n",
              "      <td>0.7</td>\n",
              "      <td>0.1</td>\n",
              "      <td>187</td>\n",
              "      <td>16</td>\n",
              "      <td>18</td>\n",
              "      <td>6.8</td>\n",
              "      <td>3.3</td>\n",
              "      <td>0.90</td>\n",
              "      <td>1</td>\n",
              "    </tr>\n",
              "    <tr>\n",
              "      <th>1</th>\n",
              "      <td>62</td>\n",
              "      <td>Male</td>\n",
              "      <td>10.9</td>\n",
              "      <td>5.5</td>\n",
              "      <td>699</td>\n",
              "      <td>64</td>\n",
              "      <td>100</td>\n",
              "      <td>7.5</td>\n",
              "      <td>3.2</td>\n",
              "      <td>0.74</td>\n",
              "      <td>1</td>\n",
              "    </tr>\n",
              "    <tr>\n",
              "      <th>2</th>\n",
              "      <td>62</td>\n",
              "      <td>Male</td>\n",
              "      <td>7.3</td>\n",
              "      <td>4.1</td>\n",
              "      <td>490</td>\n",
              "      <td>60</td>\n",
              "      <td>68</td>\n",
              "      <td>7.0</td>\n",
              "      <td>3.3</td>\n",
              "      <td>0.89</td>\n",
              "      <td>1</td>\n",
              "    </tr>\n",
              "    <tr>\n",
              "      <th>3</th>\n",
              "      <td>58</td>\n",
              "      <td>Male</td>\n",
              "      <td>1.0</td>\n",
              "      <td>0.4</td>\n",
              "      <td>182</td>\n",
              "      <td>14</td>\n",
              "      <td>20</td>\n",
              "      <td>6.8</td>\n",
              "      <td>3.4</td>\n",
              "      <td>1.00</td>\n",
              "      <td>1</td>\n",
              "    </tr>\n",
              "    <tr>\n",
              "      <th>4</th>\n",
              "      <td>72</td>\n",
              "      <td>Male</td>\n",
              "      <td>3.9</td>\n",
              "      <td>2.0</td>\n",
              "      <td>195</td>\n",
              "      <td>27</td>\n",
              "      <td>59</td>\n",
              "      <td>7.3</td>\n",
              "      <td>2.4</td>\n",
              "      <td>0.40</td>\n",
              "      <td>1</td>\n",
              "    </tr>\n",
              "  </tbody>\n",
              "</table>\n",
              "</div>"
            ],
            "text/plain": [
              "   V1      V2    V3   V4   V5  V6   V7   V8   V9   V10  Class\n",
              "0  65  Female   0.7  0.1  187  16   18  6.8  3.3  0.90      1\n",
              "1  62    Male  10.9  5.5  699  64  100  7.5  3.2  0.74      1\n",
              "2  62    Male   7.3  4.1  490  60   68  7.0  3.3  0.89      1\n",
              "3  58    Male   1.0  0.4  182  14   20  6.8  3.4  1.00      1\n",
              "4  72    Male   3.9  2.0  195  27   59  7.3  2.4  0.40      1"
            ]
          },
          "metadata": {
            "tags": []
          },
          "execution_count": 3
        }
      ]
    },
    {
      "cell_type": "code",
      "metadata": {
        "colab": {
          "base_uri": "https://localhost:8080/"
        },
        "id": "rzhM8F7XDO9I",
        "outputId": "15315b4a-9f72-410d-ec14-c911ae330bf8"
      },
      "source": [
        "df.shape"
      ],
      "execution_count": 4,
      "outputs": [
        {
          "output_type": "execute_result",
          "data": {
            "text/plain": [
              "(583, 11)"
            ]
          },
          "metadata": {
            "tags": []
          },
          "execution_count": 4
        }
      ]
    },
    {
      "cell_type": "code",
      "metadata": {
        "colab": {
          "base_uri": "https://localhost:8080/",
          "height": 297
        },
        "id": "mvOdNR3WEbTe",
        "outputId": "ed535781-ea75-4710-cb05-588acd9f0a16"
      },
      "source": [
        "df.describe()"
      ],
      "execution_count": 6,
      "outputs": [
        {
          "output_type": "execute_result",
          "data": {
            "text/html": [
              "<div>\n",
              "<style scoped>\n",
              "    .dataframe tbody tr th:only-of-type {\n",
              "        vertical-align: middle;\n",
              "    }\n",
              "\n",
              "    .dataframe tbody tr th {\n",
              "        vertical-align: top;\n",
              "    }\n",
              "\n",
              "    .dataframe thead th {\n",
              "        text-align: right;\n",
              "    }\n",
              "</style>\n",
              "<table border=\"1\" class=\"dataframe\">\n",
              "  <thead>\n",
              "    <tr style=\"text-align: right;\">\n",
              "      <th></th>\n",
              "      <th>V1</th>\n",
              "      <th>V3</th>\n",
              "      <th>V4</th>\n",
              "      <th>V5</th>\n",
              "      <th>V6</th>\n",
              "      <th>V7</th>\n",
              "      <th>V8</th>\n",
              "      <th>V9</th>\n",
              "      <th>V10</th>\n",
              "      <th>Class</th>\n",
              "    </tr>\n",
              "  </thead>\n",
              "  <tbody>\n",
              "    <tr>\n",
              "      <th>count</th>\n",
              "      <td>583.000000</td>\n",
              "      <td>583.000000</td>\n",
              "      <td>583.000000</td>\n",
              "      <td>583.000000</td>\n",
              "      <td>583.000000</td>\n",
              "      <td>583.000000</td>\n",
              "      <td>583.000000</td>\n",
              "      <td>583.000000</td>\n",
              "      <td>583.000000</td>\n",
              "      <td>583.000000</td>\n",
              "    </tr>\n",
              "    <tr>\n",
              "      <th>mean</th>\n",
              "      <td>44.746141</td>\n",
              "      <td>3.298799</td>\n",
              "      <td>1.486106</td>\n",
              "      <td>290.576329</td>\n",
              "      <td>80.713551</td>\n",
              "      <td>109.910806</td>\n",
              "      <td>6.483190</td>\n",
              "      <td>3.141852</td>\n",
              "      <td>0.947064</td>\n",
              "      <td>1.286449</td>\n",
              "    </tr>\n",
              "    <tr>\n",
              "      <th>std</th>\n",
              "      <td>16.189833</td>\n",
              "      <td>6.209522</td>\n",
              "      <td>2.808498</td>\n",
              "      <td>242.937989</td>\n",
              "      <td>182.620356</td>\n",
              "      <td>288.918529</td>\n",
              "      <td>1.085451</td>\n",
              "      <td>0.795519</td>\n",
              "      <td>0.318492</td>\n",
              "      <td>0.452490</td>\n",
              "    </tr>\n",
              "    <tr>\n",
              "      <th>min</th>\n",
              "      <td>4.000000</td>\n",
              "      <td>0.400000</td>\n",
              "      <td>0.100000</td>\n",
              "      <td>63.000000</td>\n",
              "      <td>10.000000</td>\n",
              "      <td>10.000000</td>\n",
              "      <td>2.700000</td>\n",
              "      <td>0.900000</td>\n",
              "      <td>0.300000</td>\n",
              "      <td>1.000000</td>\n",
              "    </tr>\n",
              "    <tr>\n",
              "      <th>25%</th>\n",
              "      <td>33.000000</td>\n",
              "      <td>0.800000</td>\n",
              "      <td>0.200000</td>\n",
              "      <td>175.500000</td>\n",
              "      <td>23.000000</td>\n",
              "      <td>25.000000</td>\n",
              "      <td>5.800000</td>\n",
              "      <td>2.600000</td>\n",
              "      <td>0.700000</td>\n",
              "      <td>1.000000</td>\n",
              "    </tr>\n",
              "    <tr>\n",
              "      <th>50%</th>\n",
              "      <td>45.000000</td>\n",
              "      <td>1.000000</td>\n",
              "      <td>0.300000</td>\n",
              "      <td>208.000000</td>\n",
              "      <td>35.000000</td>\n",
              "      <td>42.000000</td>\n",
              "      <td>6.600000</td>\n",
              "      <td>3.100000</td>\n",
              "      <td>0.947064</td>\n",
              "      <td>1.000000</td>\n",
              "    </tr>\n",
              "    <tr>\n",
              "      <th>75%</th>\n",
              "      <td>58.000000</td>\n",
              "      <td>2.600000</td>\n",
              "      <td>1.300000</td>\n",
              "      <td>298.000000</td>\n",
              "      <td>60.500000</td>\n",
              "      <td>87.000000</td>\n",
              "      <td>7.200000</td>\n",
              "      <td>3.800000</td>\n",
              "      <td>1.100000</td>\n",
              "      <td>2.000000</td>\n",
              "    </tr>\n",
              "    <tr>\n",
              "      <th>max</th>\n",
              "      <td>90.000000</td>\n",
              "      <td>75.000000</td>\n",
              "      <td>19.700000</td>\n",
              "      <td>2110.000000</td>\n",
              "      <td>2000.000000</td>\n",
              "      <td>4929.000000</td>\n",
              "      <td>9.600000</td>\n",
              "      <td>5.500000</td>\n",
              "      <td>2.800000</td>\n",
              "      <td>2.000000</td>\n",
              "    </tr>\n",
              "  </tbody>\n",
              "</table>\n",
              "</div>"
            ],
            "text/plain": [
              "               V1          V3          V4  ...          V9         V10       Class\n",
              "count  583.000000  583.000000  583.000000  ...  583.000000  583.000000  583.000000\n",
              "mean    44.746141    3.298799    1.486106  ...    3.141852    0.947064    1.286449\n",
              "std     16.189833    6.209522    2.808498  ...    0.795519    0.318492    0.452490\n",
              "min      4.000000    0.400000    0.100000  ...    0.900000    0.300000    1.000000\n",
              "25%     33.000000    0.800000    0.200000  ...    2.600000    0.700000    1.000000\n",
              "50%     45.000000    1.000000    0.300000  ...    3.100000    0.947064    1.000000\n",
              "75%     58.000000    2.600000    1.300000  ...    3.800000    1.100000    2.000000\n",
              "max     90.000000   75.000000   19.700000  ...    5.500000    2.800000    2.000000\n",
              "\n",
              "[8 rows x 10 columns]"
            ]
          },
          "metadata": {
            "tags": []
          },
          "execution_count": 6
        }
      ]
    },
    {
      "cell_type": "code",
      "metadata": {
        "id": "zMDy56TQFPyA"
      },
      "source": [
        "name_to_class = {\r\n",
        "  'Male' : 0,\r\n",
        "  'Female' : 1\r\n",
        "}\r\n",
        "\r\n",
        "df['V2'] = df['V2'].map(name_to_class)"
      ],
      "execution_count": 7,
      "outputs": []
    },
    {
      "cell_type": "code",
      "metadata": {
        "colab": {
          "base_uri": "https://localhost:8080/",
          "height": 204
        },
        "id": "AcUzmElhKmuN",
        "outputId": "3673aeea-cd1b-490c-c606-4c87a8b52a3a"
      },
      "source": [
        "df.head()"
      ],
      "execution_count": 8,
      "outputs": [
        {
          "output_type": "execute_result",
          "data": {
            "text/html": [
              "<div>\n",
              "<style scoped>\n",
              "    .dataframe tbody tr th:only-of-type {\n",
              "        vertical-align: middle;\n",
              "    }\n",
              "\n",
              "    .dataframe tbody tr th {\n",
              "        vertical-align: top;\n",
              "    }\n",
              "\n",
              "    .dataframe thead th {\n",
              "        text-align: right;\n",
              "    }\n",
              "</style>\n",
              "<table border=\"1\" class=\"dataframe\">\n",
              "  <thead>\n",
              "    <tr style=\"text-align: right;\">\n",
              "      <th></th>\n",
              "      <th>V1</th>\n",
              "      <th>V2</th>\n",
              "      <th>V3</th>\n",
              "      <th>V4</th>\n",
              "      <th>V5</th>\n",
              "      <th>V6</th>\n",
              "      <th>V7</th>\n",
              "      <th>V8</th>\n",
              "      <th>V9</th>\n",
              "      <th>V10</th>\n",
              "      <th>Class</th>\n",
              "    </tr>\n",
              "  </thead>\n",
              "  <tbody>\n",
              "    <tr>\n",
              "      <th>0</th>\n",
              "      <td>65</td>\n",
              "      <td>1</td>\n",
              "      <td>0.7</td>\n",
              "      <td>0.1</td>\n",
              "      <td>187</td>\n",
              "      <td>16</td>\n",
              "      <td>18</td>\n",
              "      <td>6.8</td>\n",
              "      <td>3.3</td>\n",
              "      <td>0.90</td>\n",
              "      <td>1</td>\n",
              "    </tr>\n",
              "    <tr>\n",
              "      <th>1</th>\n",
              "      <td>62</td>\n",
              "      <td>0</td>\n",
              "      <td>10.9</td>\n",
              "      <td>5.5</td>\n",
              "      <td>699</td>\n",
              "      <td>64</td>\n",
              "      <td>100</td>\n",
              "      <td>7.5</td>\n",
              "      <td>3.2</td>\n",
              "      <td>0.74</td>\n",
              "      <td>1</td>\n",
              "    </tr>\n",
              "    <tr>\n",
              "      <th>2</th>\n",
              "      <td>62</td>\n",
              "      <td>0</td>\n",
              "      <td>7.3</td>\n",
              "      <td>4.1</td>\n",
              "      <td>490</td>\n",
              "      <td>60</td>\n",
              "      <td>68</td>\n",
              "      <td>7.0</td>\n",
              "      <td>3.3</td>\n",
              "      <td>0.89</td>\n",
              "      <td>1</td>\n",
              "    </tr>\n",
              "    <tr>\n",
              "      <th>3</th>\n",
              "      <td>58</td>\n",
              "      <td>0</td>\n",
              "      <td>1.0</td>\n",
              "      <td>0.4</td>\n",
              "      <td>182</td>\n",
              "      <td>14</td>\n",
              "      <td>20</td>\n",
              "      <td>6.8</td>\n",
              "      <td>3.4</td>\n",
              "      <td>1.00</td>\n",
              "      <td>1</td>\n",
              "    </tr>\n",
              "    <tr>\n",
              "      <th>4</th>\n",
              "      <td>72</td>\n",
              "      <td>0</td>\n",
              "      <td>3.9</td>\n",
              "      <td>2.0</td>\n",
              "      <td>195</td>\n",
              "      <td>27</td>\n",
              "      <td>59</td>\n",
              "      <td>7.3</td>\n",
              "      <td>2.4</td>\n",
              "      <td>0.40</td>\n",
              "      <td>1</td>\n",
              "    </tr>\n",
              "  </tbody>\n",
              "</table>\n",
              "</div>"
            ],
            "text/plain": [
              "   V1  V2    V3   V4   V5  V6   V7   V8   V9   V10  Class\n",
              "0  65   1   0.7  0.1  187  16   18  6.8  3.3  0.90      1\n",
              "1  62   0  10.9  5.5  699  64  100  7.5  3.2  0.74      1\n",
              "2  62   0   7.3  4.1  490  60   68  7.0  3.3  0.89      1\n",
              "3  58   0   1.0  0.4  182  14   20  6.8  3.4  1.00      1\n",
              "4  72   0   3.9  2.0  195  27   59  7.3  2.4  0.40      1"
            ]
          },
          "metadata": {
            "tags": []
          },
          "execution_count": 8
        }
      ]
    },
    {
      "cell_type": "code",
      "metadata": {
        "id": "6-O5yRybKr08"
      },
      "source": [
        "labels = np.array(df['Class'])\r\n",
        "df = df.drop('Class', axis = 1)\r\n",
        "feature_list = list(df.columns)\r\n",
        "data = np.array(df)"
      ],
      "execution_count": 9,
      "outputs": []
    },
    {
      "cell_type": "code",
      "metadata": {
        "colab": {
          "base_uri": "https://localhost:8080/"
        },
        "id": "-g6zuE0oLT83",
        "outputId": "28abecc2-ab94-400d-c9ed-5318655f4a52"
      },
      "source": [
        "#definindo o tipo de validacao cruzada e o numero de folds\r\n",
        "cv_strat = StratifiedKFold(n_splits = 10)\r\n",
        "\r\n",
        "#definindo a estrategia de score a partir da metrica f1\r\n",
        "f1 = make_scorer(f1_score)\r\n",
        "\r\n",
        "#definindo hiperparâmetros\r\n",
        "distributions = dict(kernel = ['sigmoid', 'rbf'], \r\n",
        "                     C  = uniform(loc=0, scale=10))\r\n",
        "\r\n",
        "#instânciando meu classificador\r\n",
        "classifier = SVC()\r\n",
        "\r\n",
        "#instanciando e modelando o grid search com os hiperparametros e a validação definidas.\r\n",
        "random_cv = RandomizedSearchCV(classifier, distributions,  cv = cv_strat, scoring = f1, random_state = 42, n_iter = 5)\r\n",
        "random_cv.fit(data, labels)"
      ],
      "execution_count": 14,
      "outputs": [
        {
          "output_type": "execute_result",
          "data": {
            "text/plain": [
              "RandomizedSearchCV(cv=StratifiedKFold(n_splits=10, random_state=None, shuffle=False),\n",
              "                   error_score=nan,\n",
              "                   estimator=SVC(C=1.0, break_ties=False, cache_size=200,\n",
              "                                 class_weight=None, coef0=0.0,\n",
              "                                 decision_function_shape='ovr', degree=3,\n",
              "                                 gamma='scale', kernel='rbf', max_iter=-1,\n",
              "                                 probability=False, random_state=None,\n",
              "                                 shrinking=True, tol=0.001, verbose=False),\n",
              "                   iid='deprecated', n_iter=5, n_jobs=None,\n",
              "                   param_distributions={'C': <scipy.stats._distn_infrastructure.rv_frozen object at 0x7f675fd8b358>,\n",
              "                                        'kernel': ['sigmoid', 'rbf']},\n",
              "                   pre_dispatch='2*n_jobs', random_state=42, refit=True,\n",
              "                   return_train_score=False, scoring=make_scorer(f1_score),\n",
              "                   verbose=0)"
            ]
          },
          "metadata": {
            "tags": []
          },
          "execution_count": 14
        }
      ]
    },
    {
      "cell_type": "code",
      "metadata": {
        "colab": {
          "base_uri": "https://localhost:8080/"
        },
        "id": "cBE_RCWILW-c",
        "outputId": "1248a370-4ca8-494b-fa26-11ef62a185ad"
      },
      "source": [
        "print('Resumo de todos os resultados encontrados: \\n\\n', random_cv.cv_results_)\r\n",
        "print('Melhor resultado F1', random_cv.best_score_)\r\n",
        "print('\\n\\nMelhor configuração de hiperparâmetros:', random_cv.best_params_)\r\n",
        "print('\\n\\nConfigurações de todos os hiperparâmetros do melhor estimado encontrado pelo GridSearch: \\n', random_cv.best_estimator_)"
      ],
      "execution_count": 17,
      "outputs": [
        {
          "output_type": "stream",
          "text": [
            "Resumo de todos os resultados encontrados: \n",
            "\n",
            " {'mean_fit_time': array([0.00799108, 0.01234393, 0.00804656, 0.00825655, 0.01020947]), 'std_fit_time': array([0.00036813, 0.00151306, 0.00045263, 0.00077137, 0.00108379]), 'mean_score_time': array([0.00170243, 0.00189049, 0.00175972, 0.00161452, 0.00183406]), 'std_score_time': array([1.35556143e-04, 2.21168749e-04, 1.09452088e-04, 4.45778735e-05,\n",
            "       1.67787308e-04]), 'param_C': masked_array(data=[3.745401188473625, 1.834347898661638,\n",
            "                   5.986584841970366, 4.458327528535912,\n",
            "                   0.5808361216819946],\n",
            "             mask=[False, False, False, False, False],\n",
            "       fill_value='?',\n",
            "            dtype=object), 'param_kernel': masked_array(data=['sigmoid', 'rbf', 'sigmoid', 'sigmoid', 'rbf'],\n",
            "             mask=[False, False, False, False, False],\n",
            "       fill_value='?',\n",
            "            dtype=object), 'params': [{'C': 3.745401188473625, 'kernel': 'sigmoid'}, {'C': 1.834347898661638, 'kernel': 'rbf'}, {'C': 5.986584841970366, 'kernel': 'sigmoid'}, {'C': 4.458327528535912, 'kernel': 'sigmoid'}, {'C': 0.5808361216819946, 'kernel': 'rbf'}], 'split0_test_score': array([0.73563218, 0.83168317, 0.73563218, 0.73563218, 0.83168317]), 'split1_test_score': array([0.73809524, 0.83168317, 0.74074074, 0.72289157, 0.83168317]), 'split2_test_score': array([0.69767442, 0.83168317, 0.69767442, 0.69767442, 0.83168317]), 'split3_test_score': array([0.66666667, 0.84      , 0.66666667, 0.66666667, 0.84      ]), 'split4_test_score': array([0.73809524, 0.84      , 0.73809524, 0.73809524, 0.84      ]), 'split5_test_score': array([0.78571429, 0.84      , 0.78571429, 0.78571429, 0.84      ]), 'split6_test_score': array([0.74358974, 0.82828283, 0.74358974, 0.74358974, 0.82828283]), 'split7_test_score': array([0.65      , 0.82828283, 0.65      , 0.65      , 0.82828283]), 'split8_test_score': array([0.75862069, 0.82828283, 0.77272727, 0.75862069, 0.82828283]), 'split9_test_score': array([0.82222222, 0.82828283, 0.83146067, 0.83146067, 0.82828283]), 'mean_test_score': array([0.73363107, 0.83281808, 0.73623012, 0.73303455, 0.83281808]), 'std_test_score': array([0.04909159, 0.00490793, 0.05166157, 0.05090573, 0.00490793]), 'rank_test_score': array([4, 1, 3, 5, 1], dtype=int32)}\n",
            "Melhor resultado F1 0.832818081808181\n",
            "\n",
            "\n",
            "Melhor configuração de hiperparâmetros: {'C': 1.834347898661638, 'kernel': 'rbf'}\n",
            "\n",
            "\n",
            "Configurações de todos os hiperparâmetros do melhor estimado encontrado pelo GridSearch: \n",
            " SVC(C=1.834347898661638, break_ties=False, cache_size=200, class_weight=None,\n",
            "    coef0=0.0, decision_function_shape='ovr', degree=3, gamma='scale',\n",
            "    kernel='rbf', max_iter=-1, probability=False, random_state=None,\n",
            "    shrinking=True, tol=0.001, verbose=False)\n"
          ],
          "name": "stdout"
        }
      ]
    },
    {
      "cell_type": "code",
      "metadata": {
        "colab": {
          "base_uri": "https://localhost:8080/"
        },
        "id": "48YBBsXBRYvq",
        "outputId": "fddd75bf-10b5-4994-ef86-ec16d4e16fee"
      },
      "source": [
        "#definindo o tipo de validacao cruzada e o numero de folds\r\n",
        "cv_strat = StratifiedKFold(n_splits = 10)\r\n",
        "\r\n",
        "#definindo a estrategia de score a partir da metrica f1\r\n",
        "f1 = make_scorer(f1_score)\r\n",
        "\r\n",
        "#definindo hiperparâmetros\r\n",
        "distributions1 = dict(n_estimators = randint(100, 200),\r\n",
        "                      bootstrap = [True, False],\r\n",
        "                      criterion = ['gini', 'entropy'])\r\n",
        "\r\n",
        "#instânciando meu classificador\r\n",
        "classifier1 = RandomForestClassifier(random_state = 42)\r\n",
        "\r\n",
        "#instanciando e modelando o grid search com os hiperparametros e a validação definidas.\r\n",
        "random_cv1 = RandomizedSearchCV(classifier1, distributions1, cv = cv_strat, scoring = f1, random_state = 42, n_iter = 5)\r\n",
        "random_cv1.fit(data, labels)"
      ],
      "execution_count": 19,
      "outputs": [
        {
          "output_type": "execute_result",
          "data": {
            "text/plain": [
              "RandomizedSearchCV(cv=StratifiedKFold(n_splits=10, random_state=None, shuffle=False),\n",
              "                   error_score=nan,\n",
              "                   estimator=RandomForestClassifier(bootstrap=True,\n",
              "                                                    ccp_alpha=0.0,\n",
              "                                                    class_weight=None,\n",
              "                                                    criterion='gini',\n",
              "                                                    max_depth=None,\n",
              "                                                    max_features='auto',\n",
              "                                                    max_leaf_nodes=None,\n",
              "                                                    max_samples=None,\n",
              "                                                    min_impurity_decrease=0.0,\n",
              "                                                    min_impurity_split=None,\n",
              "                                                    min_samples_leaf=1,\n",
              "                                                    min_samples_s...\n",
              "                                                    random_state=42, verbose=0,\n",
              "                                                    warm_start=False),\n",
              "                   iid='deprecated', n_iter=5, n_jobs=None,\n",
              "                   param_distributions={'bootstrap': [True, False],\n",
              "                                        'criterion': ['gini', 'entropy'],\n",
              "                                        'n_estimators': <scipy.stats._distn_infrastructure.rv_frozen object at 0x7f6757e747f0>},\n",
              "                   pre_dispatch='2*n_jobs', random_state=42, refit=True,\n",
              "                   return_train_score=False, scoring=make_scorer(f1_score),\n",
              "                   verbose=0)"
            ]
          },
          "metadata": {
            "tags": []
          },
          "execution_count": 19
        }
      ]
    },
    {
      "cell_type": "code",
      "metadata": {
        "colab": {
          "base_uri": "https://localhost:8080/"
        },
        "id": "gnXqPJITVqFB",
        "outputId": "65246555-7ca2-4097-e3ce-6310b005588d"
      },
      "source": [
        "print('Resumo de todos os resultados encontrados: \\n\\n', random_cv1.cv_results_)\r\n",
        "print('Melhor resultado f1:', random_cv1.best_score_)\r\n",
        "print('\\n\\nMelhor configuração de hiperparâmetros:', random_cv1.best_params_)\r\n",
        "print('\\n\\nConfigurações de todos os hiperparâmetros do melhor estimado encontrado pelo GridSearc: \\n', random_cv1.best_estimator_)"
      ],
      "execution_count": 20,
      "outputs": [
        {
          "output_type": "stream",
          "text": [
            "Resumo de todos os resultados encontrados: \n",
            "\n",
            " {'mean_fit_time': array([0.4422786 , 0.31876559, 0.34885142, 0.33181481, 0.37383161]), 'std_fit_time': array([0.00969804, 0.00681327, 0.02430976, 0.00968938, 0.00576846]), 'mean_score_time': array([0.01665919, 0.01482766, 0.01587675, 0.01489239, 0.01766486]), 'std_score_time': array([0.00057005, 0.00059111, 0.00089202, 0.0001606 , 0.00069558]), 'param_bootstrap': masked_array(data=[True, True, True, True, False],\n",
            "             mask=[False, False, False, False, False],\n",
            "       fill_value='?',\n",
            "            dtype=object), 'param_criterion': masked_array(data=['entropy', 'gini', 'gini', 'gini', 'gini'],\n",
            "             mask=[False, False, False, False, False],\n",
            "       fill_value='?',\n",
            "            dtype=object), 'param_n_estimators': masked_array(data=[192, 171, 182, 174, 199],\n",
            "             mask=[False, False, False, False, False],\n",
            "       fill_value='?',\n",
            "            dtype=object), 'params': [{'bootstrap': True, 'criterion': 'entropy', 'n_estimators': 192}, {'bootstrap': True, 'criterion': 'gini', 'n_estimators': 171}, {'bootstrap': True, 'criterion': 'gini', 'n_estimators': 182}, {'bootstrap': True, 'criterion': 'gini', 'n_estimators': 174}, {'bootstrap': False, 'criterion': 'gini', 'n_estimators': 199}], 'split0_test_score': array([0.82105263, 0.8172043 , 0.80434783, 0.8172043 , 0.79120879]), 'split1_test_score': array([0.80434783, 0.79569892, 0.79569892, 0.79569892, 0.80434783]), 'split2_test_score': array([0.80851064, 0.82105263, 0.82105263, 0.82105263, 0.82978723]), 'split3_test_score': array([0.8372093 , 0.87640449, 0.87640449, 0.87640449, 0.8372093 ]), 'split4_test_score': array([0.8       , 0.79069767, 0.79069767, 0.79069767, 0.75294118]), 'split5_test_score': array([0.7804878 , 0.79518072, 0.7804878 , 0.7804878 , 0.775     ]), 'split6_test_score': array([0.76923077, 0.76923077, 0.74358974, 0.75949367, 0.73684211]), 'split7_test_score': array([0.69767442, 0.70588235, 0.70588235, 0.70588235, 0.65853659]), 'split8_test_score': array([0.79120879, 0.79120879, 0.81318681, 0.8       , 0.81318681]), 'split9_test_score': array([0.8172043 , 0.83870968, 0.85106383, 0.83870968, 0.81318681]), 'mean_test_score': array([0.79269265, 0.80012703, 0.79824121, 0.79856315, 0.78122466]), 'std_test_score': array([0.03681898, 0.0425271 , 0.04645024, 0.04363404, 0.05102059]), 'rank_test_score': array([4, 1, 3, 2, 5], dtype=int32)}\n",
            "Melhor resultado f1: 0.8001270339877683\n",
            "\n",
            "\n",
            "Melhor configuração de hiperparâmetros: {'bootstrap': True, 'criterion': 'gini', 'n_estimators': 171}\n",
            "\n",
            "\n",
            "Configurações de todos os hiperparâmetros do melhor estimado encontrado pelo GridSearc: \n",
            " RandomForestClassifier(bootstrap=True, ccp_alpha=0.0, class_weight=None,\n",
            "                       criterion='gini', max_depth=None, max_features='auto',\n",
            "                       max_leaf_nodes=None, max_samples=None,\n",
            "                       min_impurity_decrease=0.0, min_impurity_split=None,\n",
            "                       min_samples_leaf=1, min_samples_split=2,\n",
            "                       min_weight_fraction_leaf=0.0, n_estimators=171,\n",
            "                       n_jobs=None, oob_score=False, random_state=42, verbose=0,\n",
            "                       warm_start=False)\n"
          ],
          "name": "stdout"
        }
      ]
    },
    {
      "cell_type": "code",
      "metadata": {
        "id": "kEGeWoWLWM7x"
      },
      "source": [
        ""
      ],
      "execution_count": null,
      "outputs": []
    }
  ]
}